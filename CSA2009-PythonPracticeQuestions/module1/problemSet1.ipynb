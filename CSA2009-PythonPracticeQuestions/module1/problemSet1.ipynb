{
 "cells": [
  {
   "cell_type": "code",
   "id": "initial_id",
   "metadata": {
    "collapsed": true,
    "ExecuteTime": {
     "end_time": "2024-08-19T08:18:29.955899Z",
     "start_time": "2024-08-19T08:18:29.896638Z"
    }
   },
   "source": "print(3+12)",
   "outputs": [
    {
     "name": "stdout",
     "output_type": "stream",
     "text": [
      "15\n"
     ]
    }
   ],
   "execution_count": 2
  },
  {
   "metadata": {
    "ExecuteTime": {
     "end_time": "2024-08-19T09:39:15.944294Z",
     "start_time": "2024-08-19T09:39:15.919706Z"
    }
   },
   "cell_type": "code",
   "source": [
    "list = ['a','b','c','d','e','f','g','h']\n",
    "list[2:]"
   ],
   "id": "2ae2bfeb037f032d",
   "outputs": [
    {
     "data": {
      "text/plain": [
       "['c', 'd', 'e', 'f', 'g', 'h']"
      ]
     },
     "execution_count": 18,
     "metadata": {},
     "output_type": "execute_result"
    }
   ],
   "execution_count": 18
  },
  {
   "metadata": {
    "ExecuteTime": {
     "end_time": "2024-08-19T09:40:31.479274Z",
     "start_time": "2024-08-19T09:40:31.459221Z"
    }
   },
   "cell_type": "code",
   "source": [
    "if \"a\" in list:\n",
    "    print(True)"
   ],
   "id": "db56b3ce09f617b4",
   "outputs": [],
   "execution_count": 22
  },
  {
   "metadata": {
    "ExecuteTime": {
     "end_time": "2024-08-19T09:42:32.872924Z",
     "start_time": "2024-08-19T09:42:32.856845Z"
    }
   },
   "cell_type": "code",
   "source": "list1 = [\"banana\", \"apple\", \"cherry\", \"kiwi\", \"mango\"]\n",
   "id": "d1117b7052205ce4",
   "outputs": [],
   "execution_count": 23
  },
  {
   "metadata": {},
   "cell_type": "code",
   "outputs": [],
   "execution_count": null,
   "source": "",
   "id": "61c686065d8d8338"
  }
 ],
 "metadata": {
  "kernelspec": {
   "display_name": "Python 3",
   "language": "python",
   "name": "python3"
  },
  "language_info": {
   "codemirror_mode": {
    "name": "ipython",
    "version": 2
   },
   "file_extension": ".py",
   "mimetype": "text/x-python",
   "name": "python",
   "nbconvert_exporter": "python",
   "pygments_lexer": "ipython2",
   "version": "2.7.6"
  }
 },
 "nbformat": 4,
 "nbformat_minor": 5
}
