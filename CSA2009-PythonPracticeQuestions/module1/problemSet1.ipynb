{
 "cells": [
  {
   "cell_type": "code",
   "id": "initial_id",
   "metadata": {
    "collapsed": true,
    "ExecuteTime": {
     "end_time": "2024-08-19T08:18:29.955899Z",
     "start_time": "2024-08-19T08:18:29.896638Z"
    }
   },
   "source": "print(3+12)",
   "outputs": [
    {
     "name": "stdout",
     "output_type": "stream",
     "text": [
      "15\n"
     ]
    }
   ],
   "execution_count": 2
  },
  {
   "metadata": {
    "ExecuteTime": {
     "end_time": "2024-08-19T08:23:37.025372Z",
     "start_time": "2024-08-19T08:23:37.001210Z"
    }
   },
   "cell_type": "code",
   "source": [
    "l0 = [[1,2,3,4,5,6,7,8,9],[1,2,3,4,5,6,7,8,9]]\n",
    "l1 = [x**2 for i in l0 for x in i if x%2!=0]\n",
    "l1"
   ],
   "id": "2ae2bfeb037f032d",
   "outputs": [
    {
     "data": {
      "text/plain": [
       "[1, 9, 25, 49, 81, 1, 9, 25, 49, 81]"
      ]
     },
     "execution_count": 8,
     "metadata": {},
     "output_type": "execute_result"
    }
   ],
   "execution_count": 8
  },
  {
   "metadata": {
    "ExecuteTime": {
     "end_time": "2024-08-19T08:26:16.304336Z",
     "start_time": "2024-08-19T08:26:16.285571Z"
    }
   },
   "cell_type": "code",
   "source": "type(12//5)",
   "id": "db56b3ce09f617b4",
   "outputs": [
    {
     "data": {
      "text/plain": [
       "int"
      ]
     },
     "execution_count": 9,
     "metadata": {},
     "output_type": "execute_result"
    }
   ],
   "execution_count": 9
  },
  {
   "metadata": {},
   "cell_type": "code",
   "outputs": [],
   "execution_count": null,
   "source": "",
   "id": "d1117b7052205ce4"
  }
 ],
 "metadata": {
  "kernelspec": {
   "display_name": "Python 3",
   "language": "python",
   "name": "python3"
  },
  "language_info": {
   "codemirror_mode": {
    "name": "ipython",
    "version": 2
   },
   "file_extension": ".py",
   "mimetype": "text/x-python",
   "name": "python",
   "nbconvert_exporter": "python",
   "pygments_lexer": "ipython2",
   "version": "2.7.6"
  }
 },
 "nbformat": 4,
 "nbformat_minor": 5
}
